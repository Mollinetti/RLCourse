{
 "cells": [
  {
   "cell_type": "markdown",
   "metadata": {},
   "source": [
    "# Classic Control: Control theory problems from the classic RL literature\n",
    "# Teoria de Controle: Tarefas classicas de na literatura de RL \n",
    "\n",
    "<br><br>\n",
    "\n",
    "Nesse notebook vamos apresentar alguns ambientes classicos utilizados na pesquisa em RL. Esses ambientes possuem ambientes continuos (infinitos), aonde os metodos tabulares que vimos anteriormente nao conseguem resolve-los. Para poder obter solucoes, teremos duas ferramentas:\n",
    "\n",
    "- Estender o metodos tabulares com tecnicas de discretizacao e tile coding\n",
    "- Utilizar aproximadores de funcoes (Redes Neurais)\n"
   ]
  },
  {
   "cell_type": "markdown",
   "metadata": {},
   "source": [
    "## Importar os pacotes"
   ]
  },
  {
   "cell_type": "code",
   "execution_count": null,
   "metadata": {},
   "outputs": [],
   "source": [
    "import gym\n",
    "import numpy as np\n",
    "from IPython import display\n",
    "from matplotlib import pyplot as plt\n",
    "%matplotlib inline"
   ]
  },
  {
   "cell_type": "code",
   "execution_count": null,
   "metadata": {},
   "outputs": [],
   "source": [
    "def test_env(env: gym.Env) -> None:\n",
    "    env.reset()\n",
    "    done = False\n",
    "    img = plt.imshow(env.render(mode='rgb_array')) \n",
    "    while not done:\n",
    "        _, _, done, _ = env.step(env.action_space.sample())\n",
    "        img.set_data(env.render(mode='rgb_array')) \n",
    "        plt.axis('off')\n",
    "        display.display(plt.gcf())\n",
    "        display.clear_output(wait=True)"
   ]
  },
  {
   "cell_type": "markdown",
   "metadata": {},
   "source": [
    "## CartPole: Mantenha o mastro do carrinho em pé"
   ]
  },
  {
   "cell_type": "code",
   "execution_count": null,
   "metadata": {},
   "outputs": [],
   "source": [
    "env = gym.make('CartPole-v1')\n",
    "test_env(env)\n",
    "env.close()"
   ]
  },
  {
   "cell_type": "markdown",
   "metadata": {},
   "source": [
    "##### Os estados\n",
    "\n",
    "Os estados da tarefa do carrinha sao representados por um vetor de quatro numeros reais:\n",
    "\n",
    "\n",
    "        Num     Observation                      Min                    Max\n",
    "        0       Posicao do carro                -4.8                    4.8\n",
    "        1       Velocidade do carro             -Inf                    Inf\n",
    "        2       Angulo do mastro                -0.418 rad (-24 deg)    0.418 rad (24 deg)\n",
    "        3       Velocidade angular do mastro    -Inf                    Inf\n"
   ]
  },
  {
   "cell_type": "code",
   "execution_count": null,
   "metadata": {},
   "outputs": [],
   "source": [
    "env.observation_space"
   ]
  },
  {
   "cell_type": "markdown",
   "metadata": {},
   "source": [
    "##### Ações Disponiveis\n",
    "\n",
    "Podemos realizar duas ações nesse ambiente:\n",
    "\n",
    "        0     Mover o carro para esquerda.\n",
    "        1     Mover o carro para direita.\n",
    "\n"
   ]
  },
  {
   "cell_type": "code",
   "execution_count": null,
   "metadata": {},
   "outputs": [],
   "source": [
    "env.action_space"
   ]
  },
  {
   "cell_type": "markdown",
   "metadata": {},
   "source": [
    "## Acrobot: Balance a barra até uma certa altura"
   ]
  },
  {
   "cell_type": "code",
   "execution_count": null,
   "metadata": {},
   "outputs": [],
   "source": [
    "env = gym.make('Acrobot-v1')\n",
    "test_env(env)\n",
    "env.close()"
   ]
  },
  {
   "cell_type": "markdown",
   "metadata": {},
   "source": [
    "##### Os estados\n",
    "\n",
    "Os estados da tarefa são representados por um vetor de seis números reais. Os primeiros dois são o seno e o cosseno da primeira junta. O terceiro e quarto são o cosseno e seno da outra junta. Os ultimos dois são a velocidade angular de cada junta\n",
    "    \n",
    "$\\cos(\\theta_1), \\sin(\\theta_1), \\cos(\\theta_2), \\sin(\\theta_2), \\dot\\theta_1, \\dot\\theta_2$"
   ]
  },
  {
   "cell_type": "code",
   "execution_count": null,
   "metadata": {},
   "outputs": [],
   "source": [
    "env.observation_space"
   ]
  },
  {
   "cell_type": "markdown",
   "metadata": {},
   "source": [
    "##### As possíveis ações\n",
    "\n",
    "Pode-se fazer duas ações nesse ambiente:\n",
    "\n",
    "    0    Aplicar +1 torque na junta entre os elos.\n",
    "    1    Aplicar -1 torque na junta entre os elos."
   ]
  },
  {
   "cell_type": "code",
   "execution_count": null,
   "metadata": {},
   "outputs": [],
   "source": [
    "env.action_space"
   ]
  },
  {
   "cell_type": "markdown",
   "metadata": {},
   "source": [
    "## MountainCar: Atinja o objetivo começando do fundo do vale"
   ]
  },
  {
   "cell_type": "code",
   "execution_count": null,
   "metadata": {},
   "outputs": [],
   "source": [
    "env = gym.make('MountainCar-v0')\n",
    "test_env(env)\n",
    "env.close()"
   ]
  },
  {
   "cell_type": "markdown",
   "metadata": {},
   "source": [
    "##### Os estados\n",
    "\n",
    "O espaço de observação consiste da posição do carro na posição $\\in [-1.2, 0.6]$ e velocidade do carro $\\in [-0.07, 0.07]$"
   ]
  },
  {
   "cell_type": "code",
   "execution_count": null,
   "metadata": {},
   "outputs": [],
   "source": [
    "env.observation_space"
   ]
  },
  {
   "cell_type": "markdown",
   "metadata": {},
   "source": [
    "##### Ações disponiveis\n",
    "\n",
    "As ações disponiveis são três:\n",
    "\n",
    "    0    Acelerar para esquerda.\n",
    "    1    Nāo acelerar.\n",
    "    2    Acelerar para direita."
   ]
  },
  {
   "cell_type": "code",
   "execution_count": null,
   "metadata": {},
   "outputs": [],
   "source": [
    "env.action_space"
   ]
  },
  {
   "cell_type": "markdown",
   "metadata": {},
   "source": [
    "## Pendulum: Mantenha-o em pé"
   ]
  },
  {
   "cell_type": "code",
   "execution_count": null,
   "metadata": {},
   "outputs": [],
   "source": [
    "env = gym.make('Pendulum-v0')\n",
    "test_env(env)\n",
    "env.close()"
   ]
  },
  {
   "cell_type": "markdown",
   "metadata": {},
   "source": [
    "##### os estados\n",
    "\n",
    "Os estados sāo representados por um vetor de tres valores, representando $\\cos(\\theta), \\sin(\\theta)$ e velocidade $\\theta$ é o angulo do pendulo"
   ]
  },
  {
   "cell_type": "code",
   "execution_count": null,
   "metadata": {},
   "outputs": [],
   "source": [
    "env.observation_space"
   ]
  },
  {
   "cell_type": "markdown",
   "metadata": {},
   "source": [
    "##### Ações disponiveis\n",
    "\n",
    "A açāo é um numero real no intervalo $[-2, 2]$ que representa o torque aplicado no pendulo"
   ]
  },
  {
   "cell_type": "code",
   "execution_count": null,
   "metadata": {},
   "outputs": [],
   "source": [
    "env.action_space"
   ]
  }
 ],
 "metadata": {
  "kernelspec": {
   "display_name": "Python 3",
   "language": "python",
   "name": "python3"
  },
  "language_info": {
   "codemirror_mode": {
    "name": "ipython",
    "version": 3
   },
   "file_extension": ".py",
   "mimetype": "text/x-python",
   "name": "python",
   "nbconvert_exporter": "python",
   "pygments_lexer": "ipython3",
   "version": "3.8.5"
  }
 },
 "nbformat": 4,
 "nbformat_minor": 4
}
